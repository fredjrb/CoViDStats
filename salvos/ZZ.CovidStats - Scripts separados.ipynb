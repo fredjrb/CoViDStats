{
 "cells": [
  {
   "cell_type": "code",
   "execution_count": 6,
   "id": "9afe0950",
   "metadata": {},
   "outputs": [
    {
     "name": "stdout",
     "output_type": "stream",
     "text": [
      "Quantidade de indivíduos com informações de GINI : 167\n"
     ]
    }
   ],
   "source": [
    "import pandas as pd\n",
    "import numpy as np\n",
    "\n",
    "\n",
    "def map_value(serie : pd.Series, mapValues : dict):\n",
    "    newSerie = []\n",
    "    for value in serie :\n",
    "        newValue = mapValues.get(value, value)\n",
    "        newSerie.append(newValue)\n",
    "    return pd.Series(newSerie)\n",
    "\n",
    "mapGiniDF = {'CABO VERDE' : 'CAPE VERDE',\n",
    "             'CONGO, DEM. REP.' : 'DEMOCRATIC REPUBLIC OF CONGO',\n",
    "             'CONGO, REP.' : 'CONGO', \n",
    "             'EGYPT, ARAB REP.' : 'EGYPT',\n",
    "             'GAMBIA, THE' : 'GAMBIA',\n",
    "             'LAO PDR' : 'LAOS',\n",
    "             'IRAN, ISLAMIC REP.' : 'IRAN',\n",
    "             'VENEZUELA, RB' : 'VENEZUELA',\n",
    "             'WEST BANK AND GAZA' : 'PALESTINE',\n",
    "             'SYRIAN ARAB REPUBLIC' : 'SYRIA',\n",
    "             'RUSSIAN FEDERATION' : 'RUSSIA',\n",
    "             'YEMEN, REP.' : 'YEMEN',\n",
    "             'VENEZUELA, RB' : 'VENEZUELA',\n",
    "             'KYRGYZ REPUBLIC' : 'KYRGYZSTAN',\n",
    "             'SLOVAK REPUBLIC' : 'SLOVAKIA',\n",
    "             'KOREA, REP.' : 'SOUTH KOREA',\n",
    "             'ST. LUCIA' : 'SAINT LUCIA',\n",
    "             'ESWATINI' : 'SWAZILAND',\n",
    "             'MICRONESIA, FED. STS.' : 'MICRONESIA'\n",
    "            } \n",
    "\n",
    "ano = 2020\n",
    "\n",
    "giniDict = {}\n",
    "\n",
    "for i in range(dfArqGini.shape[0]):\n",
    "    gini = np.NaN\n",
    "    achou = False\n",
    "    for j in range(2020, 1960, -1) :\n",
    "        if(~np.isnan(dfArqGini.loc[i, f'{j}']) and ~achou):\n",
    "            achou = True\n",
    "            gini = dfArqGini.loc[i, f'{j}']\n",
    "    value = dfArqGini.loc[i, 'Country Name']\n",
    "    giniDict[value.upper()] = gini\n",
    "    \n",
    "dfGini = pd.DataFrame.from_dict(giniDict, orient='index', columns=['GINI'])\n",
    "dfGini['PAIS'] = dfGini.index\n",
    "dfGini.index = range(dfGini.shape[0])\n",
    "\n",
    "dfGini.dropna(axis=0, how='any', inplace=True)\n",
    "dfGini.index = range(dfGini.shape[0])\n",
    "dfGini.PAIS = map_value(dfGini.PAIS, mapGiniDF)\n",
    "\n",
    "dfGini.to_csv('data/gini_dwb.csv', index=False, sep=',')\n",
    "\n",
    "print(f'Quantidade de indivíduos com informações de GINI : {dfGini.shape[0]}')"
   ]
  },
  {
   "cell_type": "code",
   "execution_count": 4,
   "id": "142487fe",
   "metadata": {},
   "outputs": [],
   "source": [
    "def print_paises(serie : pd.Series) :\n",
    "  paises = list(serie)\n",
    "  paises.sort()\n",
    "  print(paises)  \n",
    "  print(\"=========================================\")\n",
    "\n",
    "    \n",
    "def diferenca(paises1 : list, paises2 : list) :\n",
    "  paises1_2 = [pais for pais in paises1 if pais not in paises2]\n",
    "  paises2_1 = [pais for pais in paises2 if pais not in paises1]\n",
    "  paises1_2.sort()\n",
    "  paises2_1.sort()\n",
    "  print(paises1_2)  \n",
    "  print(\"******************************************\")  \n",
    "  print(paises2_1)  \n",
    "  print(\"******************************************\")      "
   ]
  },
  {
   "cell_type": "code",
   "execution_count": 5,
   "id": "5838ecc5",
   "metadata": {},
   "outputs": [
    {
     "name": "stdout",
     "output_type": "stream",
     "text": [
      "[]\n",
      "******************************************\n",
      "[]\n",
      "******************************************\n"
     ]
    }
   ],
   "source": [
    "diferenca(list(dfGini.PAIS), list(dfGini.PAIS))"
   ]
  }
 ],
 "metadata": {
  "kernelspec": {
   "display_name": "Python 3",
   "language": "python",
   "name": "python3"
  },
  "language_info": {
   "codemirror_mode": {
    "name": "ipython",
    "version": 3
   },
   "file_extension": ".py",
   "mimetype": "text/x-python",
   "name": "python",
   "nbconvert_exporter": "python",
   "pygments_lexer": "ipython3",
   "version": "3.8.8"
  }
 },
 "nbformat": 4,
 "nbformat_minor": 5
}
