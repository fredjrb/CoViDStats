{
 "cells": [
  {
   "cell_type": "code",
   "execution_count": 3,
   "metadata": {},
   "outputs": [],
   "source": [
    "from bs4 import BeautifulSoup\n",
    "import json\n",
    "from urllib.request import urlopen, Request\n",
    "from urllib.error import URLError, HTTPError\n",
    "import pandas as pd\n",
    "import numpy as np"
   ]
  },
  {
   "cell_type": "code",
   "execution_count": 32,
   "metadata": {
    "scrolled": false
   },
   "outputs": [
    {
     "data": {
      "text/plain": [
       "Index(['Country Name', 'Country Code', 'Indicator Name', 'Indicator Code',\n",
       "       '1960', '1961', '1962', '1963', '1964', '1965', '1966', '1967', '1968',\n",
       "       '1969', '1970', '1971', '1972', '1973', '1974', '1975', '1976', '1977',\n",
       "       '1978', '1979', '1980', '1981', '1982', '1983', '1984', '1985', '1986',\n",
       "       '1987', '1988', '1989', '1990', '1991', '1992', '1993', '1994', '1995',\n",
       "       '1996', '1997', '1998', '1999', '2000', '2001', '2002', '2003', '2004',\n",
       "       '2005', '2006', '2007', '2008', '2009', '2010', '2011', '2012', '2013',\n",
       "       '2014', '2015', '2016', '2017', '2018', '2019', '2020'],\n",
       "      dtype='object')"
      ]
     },
     "execution_count": 32,
     "metadata": {},
     "output_type": "execute_result"
    }
   ],
   "source": [
    "##Origem dos dados: http://worldpopulationreview.com/country-rankings/gini-coefficient-by-country\n",
    "\n",
    "df = pd.read_csv('data/ginibase.csv', sep = ',')\n",
    "#df.drop(columns=['Country Name', 'Country Code', 'Indicator Name', 'Indicator Code'], inplace=True)\n",
    "df.columns\n",
    "\n"
   ]
  },
  {
   "cell_type": "code",
   "execution_count": 107,
   "metadata": {
    "scrolled": false
   },
   "outputs": [
    {
     "name": "stdout",
     "output_type": "stream",
     "text": [
      "99\n",
      "266\n"
     ]
    }
   ],
   "source": [
    "ano = 2020\n",
    "giniDict = {}\n",
    "for i in range(df.shape[0]):\n",
    "    gini = np.NaN\n",
    "    achou = False\n",
    "    for j in range(2020, 1960, -1) :\n",
    "#        if(df.loc[i, j].notna() and not achou):\n",
    "#            giniDict[f'{value}'] = df.loc[i, j]\n",
    "        if(~np.isnan(df.loc[i, f'{j}']) and ~achou):\n",
    "            achou = True\n",
    "            gini = df.loc[i, f'{j}']\n",
    "    value = df.loc[i, 'Country Name']\n",
    "    giniDict[value.upper()] = gini\n",
    "    \n",
    "dfGini = pd.DataFrame.from_dict(giniDict, orient='index', columns=['GINI'])\n",
    "dfGini['COUNTRY'] = dfGini.index\n",
    "dfGini.index = range(dfGini.shape[0])\n",
    "print(dfGini.GINI.isna().sum())\n",
    "print(dfGini.shape[0])"
   ]
  },
  {
   "cell_type": "code",
   "execution_count": 76,
   "metadata": {},
   "outputs": [
    {
     "data": {
      "text/plain": [
       "False"
      ]
     },
     "execution_count": 76,
     "metadata": {},
     "output_type": "execute_result"
    }
   ],
   "source": [
    "j=2019\n",
    "i = 3\n",
    "~np.isnan(df.loc[i, f'{j}'])"
   ]
  }
 ],
 "metadata": {
  "kernelspec": {
   "display_name": "Python 3",
   "language": "python",
   "name": "python3"
  },
  "language_info": {
   "codemirror_mode": {
    "name": "ipython",
    "version": 3
   },
   "file_extension": ".py",
   "mimetype": "text/x-python",
   "name": "python",
   "nbconvert_exporter": "python",
   "pygments_lexer": "ipython3",
   "version": "3.7.9"
  }
 },
 "nbformat": 4,
 "nbformat_minor": 4
}
